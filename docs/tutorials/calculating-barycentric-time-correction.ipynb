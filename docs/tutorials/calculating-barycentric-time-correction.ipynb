{
 "cells": [
  {
   "cell_type": "markdown",
   "id": "a6701c44-fcae-4a54-aec2-3a3de1f9624c",
   "metadata": {},
   "source": [
    "# Calculating the Barycentric Timing Correction\n",
    "\n",
    "When we observe stars using space-based telescopes, such as Kepler and TESS, the arrival time of photons is different to the time they would arrive at the solar system barycenter. For example, If the spacecraft is between the target and the solar system barycenter, the photons will arrive early. So that we can inter compare observations from different facilities, we provide the measurement along with the time those photons would have reached the solar system barycenter. \n",
    "\n",
    "`lkorbit` provdes a way to calculate this timing correction based on \n",
    "\n",
    "1. The time of the measurement **at the spacecraft**\n",
    "2. The position of the spacecraft at that time\n",
    "3. The position of the target\n",
    "\n",
    "This example shows you how to calculate this for Kepler and TESS."
   ]
  },
  {
   "cell_type": "markdown",
   "id": "893d409f-a906-470c-9b3c-c8c2ddf714d9",
   "metadata": {},
   "source": [
    "## Kepler example\n",
    "\n",
    "Here we show how to calculate the barycenteric time correction. We'll use `lksearch` to download some Kepler data with which to test. We'll open the `.fits` file using `astropy`."
   ]
  },
  {
   "cell_type": "code",
   "execution_count": 1,
   "id": "34637c0d-ab43-4114-9772-0c6c8de7921f",
   "metadata": {},
   "outputs": [],
   "source": [
    "from lkorbit import KeplerSpacecraft\n",
    "from lksearch import KeplerSearch\n",
    "import numpy as np\n",
    "\n",
    "from astropy.io import fits\n",
    "from astropy.time import Time"
   ]
  },
  {
   "cell_type": "code",
   "execution_count": 2,
   "id": "1f8dc300-2143-4f88-b468-8744331402ca",
   "metadata": {},
   "outputs": [
    {
     "name": "stderr",
     "output_type": "stream",
     "text": [
      "Downloading products: 100%|███████████████████████| 1/1 [00:00<00:00,  1.84it/s]\n"
     ]
    }
   ],
   "source": [
    "# Download the file, obtain the local filename\n",
    "fname = KeplerSearch(\"Kepler-10\", exptime=1800).timeseries[5].download()[\"Local Path\"][0]\n",
    "# Open using astropy\n",
    "hdulist = fits.open(fname)"
   ]
  },
  {
   "cell_type": "markdown",
   "id": "55a8aed4-af0e-4f90-861a-2b41c43fc03f",
   "metadata": {},
   "source": [
    "We're going to use `lkorbit` to create the `KeplerSpacecraft` object"
   ]
  },
  {
   "cell_type": "code",
   "execution_count": 3,
   "id": "cbf16544-0aae-4e1e-ba7b-e2432282dc35",
   "metadata": {},
   "outputs": [],
   "source": [
    "ks = KeplerSpacecraft()"
   ]
  },
  {
   "cell_type": "markdown",
   "id": "35d778b3-e0d7-402a-a3bd-18bfbeb7f93a",
   "metadata": {},
   "source": [
    "Now we'll get the time array out of the data"
   ]
  },
  {
   "cell_type": "code",
   "execution_count": 4,
   "id": "b5fc143d-80db-4a44-b2c1-d47abb5b2a25",
   "metadata": {},
   "outputs": [],
   "source": [
    "time, time_corr = hdulist[1].data['TIME'], hdulist[1].data['TIMECORR']\n",
    "k = np.isfinite(time)\n",
    "time, time_corr = time[k], time_corr[k]"
   ]
  },
  {
   "cell_type": "markdown",
   "id": "8f6255ed-61ff-49d3-9cf6-d694ea36779a",
   "metadata": {},
   "source": [
    "SPOC data contains two time extensions:\n",
    "1. `TIME`: the time of the observations in Barycentric Julian Date (i.e. at the solar system barycenter)\n",
    "2. `TIMECORR`: the time correction applied to the original spacecraft time, to obtain `TIME`\n",
    "\n",
    "`lksearch` only works with spacecraft time. So we need to remove the SPOC applied time correction"
   ]
  },
  {
   "cell_type": "code",
   "execution_count": 5,
   "id": "dcf7a8dd-ac8f-44fa-8704-ba20f8d4aa8f",
   "metadata": {},
   "outputs": [],
   "source": [
    "t = time - time_corr"
   ]
  },
  {
   "cell_type": "markdown",
   "id": "0b65cbc8-ed14-45d0-8225-2b8c26e8e1ca",
   "metadata": {},
   "source": [
    "Kepler times are actually given in Barycentric **Kepler** Julian Date, which is BJD minus a constant. The constant is 2454833, we also store it for you in `lkorbit`."
   ]
  },
  {
   "cell_type": "code",
   "execution_count": 6,
   "id": "00dccb7a-11b7-475f-90e5-0c161ff829aa",
   "metadata": {},
   "outputs": [
    {
     "data": {
      "text/plain": [
       "2454833"
      ]
     },
     "execution_count": 6,
     "metadata": {},
     "output_type": "execute_result"
    }
   ],
   "source": [
    "ks.time_offset"
   ]
  },
  {
   "cell_type": "code",
   "execution_count": 7,
   "id": "3f17a0a3-31be-4b9b-a3c0-a54a65f7faf6",
   "metadata": {},
   "outputs": [],
   "source": [
    "t = time - time_corr + ks.time_offset"
   ]
  },
  {
   "cell_type": "code",
   "execution_count": 8,
   "id": "cf2e4e31-62be-4f83-ad05-ecb765dc70ba",
   "metadata": {},
   "outputs": [
    {
     "data": {
      "text/plain": [
       "array([2455276.49115492, 2455276.51158862, 2455276.53202212, ...,\n",
       "       2455371.11916292, 2455371.13959652, 2455371.16003002])"
      ]
     },
     "execution_count": 8,
     "metadata": {},
     "output_type": "execute_result"
    }
   ],
   "source": [
    "t"
   ]
  },
  {
   "cell_type": "markdown",
   "id": "c95b758f-6260-47ba-a6aa-94fa03933f44",
   "metadata": {},
   "source": [
    "We will convert our time from a numpy array to an `astropy.time.Time` object, which will ensure this is a valid time."
   ]
  },
  {
   "cell_type": "code",
   "execution_count": 9,
   "id": "ac680264-a369-4eba-90b2-29b9a9caf712",
   "metadata": {},
   "outputs": [],
   "source": [
    "t = Time(t, format='jd')"
   ]
  },
  {
   "cell_type": "markdown",
   "id": "8786b595-9932-4ce0-9eee-6517c01af278",
   "metadata": {},
   "source": [
    "To calculate the arrival time we will need to know where the target is in the sky, which we can obtain from the fits file."
   ]
  },
  {
   "cell_type": "code",
   "execution_count": 10,
   "id": "0cec5c00-7b05-4937-8eb8-572b6b530bb2",
   "metadata": {},
   "outputs": [],
   "source": [
    "ra, dec = hdulist[1].header['RA_OBJ'], hdulist[1].header['DEC_OBJ']"
   ]
  },
  {
   "cell_type": "markdown",
   "id": "ef4c41e3-1e33-468c-aea5-0a4b91f0db28",
   "metadata": {},
   "source": [
    "Now we have the spacecraft time in julian date and target coordinates, we can calculate the time correction. "
   ]
  },
  {
   "cell_type": "code",
   "execution_count": 12,
   "id": "20c67ac0-a1af-4edf-8fcd-f3dcf535d6bb",
   "metadata": {},
   "outputs": [
    {
     "data": {
      "text/plain": [
       "array([-30.41441299, -30.37170985, -30.32899557, ..., 193.18638174,\n",
       "       193.22012183, 193.25384805])"
      ]
     },
     "execution_count": 12,
     "metadata": {},
     "output_type": "execute_result"
    }
   ],
   "source": [
    "ks.get_barycentric_time_correction(time=t, ra=ra, dec=dec)"
   ]
  },
  {
   "cell_type": "markdown",
   "id": "174d4733-26eb-42f9-99cb-620b0844b179",
   "metadata": {},
   "source": [
    "This is the correction that should be applied to the spacecraft time in order to give the light arrival time at the barycenter. Let's compare!"
   ]
  },
  {
   "cell_type": "code",
   "execution_count": 2,
   "id": "5fe1ac76-c860-4401-bd3a-5d7660138e1e",
   "metadata": {},
   "outputs": [],
   "source": [
    "import matplotlib.pyplot as plt"
   ]
  },
  {
   "cell_type": "code",
   "execution_count": 3,
   "id": "bd6be79c-ab79-40ab-a57f-ab8c122a0cbd",
   "metadata": {},
   "outputs": [
    {
     "ename": "NameError",
     "evalue": "name 't' is not defined",
     "output_type": "error",
     "traceback": [
      "\u001b[0;31m---------------------------------------------------------------------------\u001b[0m",
      "\u001b[0;31mNameError\u001b[0m                                 Traceback (most recent call last)",
      "Cell \u001b[0;32mIn[3], line 2\u001b[0m\n\u001b[1;32m      1\u001b[0m fig, ax \u001b[38;5;241m=\u001b[39m plt\u001b[38;5;241m.\u001b[39msubplots()\n\u001b[0;32m----> 2\u001b[0m ax\u001b[38;5;241m.\u001b[39mplot(\u001b[43mt\u001b[49m\u001b[38;5;241m.\u001b[39mjd, time_corr \u001b[38;5;241m*\u001b[39m \u001b[38;5;241m86400\u001b[39m, label\u001b[38;5;241m=\u001b[39m\u001b[38;5;124m'\u001b[39m\u001b[38;5;124mSPOC Time Correction\u001b[39m\u001b[38;5;124m'\u001b[39m, c\u001b[38;5;241m=\u001b[39m\u001b[38;5;124m'\u001b[39m\u001b[38;5;124mr\u001b[39m\u001b[38;5;124m'\u001b[39m)\n\u001b[1;32m      3\u001b[0m ax\u001b[38;5;241m.\u001b[39mplot(t\u001b[38;5;241m.\u001b[39mjd, ks\u001b[38;5;241m.\u001b[39mget_barycentric_time_correction(time\u001b[38;5;241m=\u001b[39mt, ra\u001b[38;5;241m=\u001b[39mra, dec\u001b[38;5;241m=\u001b[39mdec), label\u001b[38;5;241m=\u001b[39m\u001b[38;5;124m'\u001b[39m\u001b[38;5;124m`lkorbit` Time Correction\u001b[39m\u001b[38;5;124m'\u001b[39m, c\u001b[38;5;241m=\u001b[39m\u001b[38;5;124m'\u001b[39m\u001b[38;5;124mk\u001b[39m\u001b[38;5;124m'\u001b[39m)\n\u001b[1;32m      4\u001b[0m ax\u001b[38;5;241m.\u001b[39mlegend()\n",
      "\u001b[0;31mNameError\u001b[0m: name 't' is not defined"
     ]
    },
    {
     "data": {
      "image/png": "[encoded data removed]",
      "text/plain": [
       "<Figure size 640x480 with 1 Axes>"
      ]
     },
     "metadata": {},
     "output_type": "display_data"
    }
   ],
   "source": [
    "fig, ax = plt.subplots()\n",
    "ax.plot(t.jd, time_corr * 86400, label='SPOC Time Correction', c='r')\n",
    "ax.plot(t.jd, ks.get_barycentric_time_correction(time=t, ra=ra, dec=dec), label='`lkorbit` Time Correction', c='k')\n",
    "ax.legend()\n",
    "ax.set(xlabel='Spacecraft Time [JD]', ylabel='Barycentric Time Correction [s]', title=hdulist[0].header['OBJECT']);"
   ]
  },
  {
   "cell_type": "markdown",
   "id": "38e86c6d-ecd5-4f02-94fa-eda02601148f",
   "metadata": {},
   "source": [
    "Looks like our correction is working!"
   ]
  },
  {
   "cell_type": "markdown",
   "id": "37b76b22-9095-4e44-b570-1a10f3255162",
   "metadata": {},
   "source": [
    "## TESS Example"
   ]
  },
  {
   "cell_type": "markdown",
   "id": "47a40d04-21df-42e2-9c83-59f3012159e7",
   "metadata": {},
   "source": [
    "TESS has a much wider FOV than the Kepler mission, and so there can be a significant difference between the barycentric correction for a target at the center of the field compared with a target at the edge of the field. \n",
    "\n",
    "This effect is not currently taken into account in TESScut TPFs. Let's use `lkorbit` to fix this."
   ]
  },
  {
   "cell_type": "code",
   "execution_count": 16,
   "id": "85d69289-8146-4081-9656-d6c8973d53e6",
   "metadata": {},
   "outputs": [],
   "source": [
    "from lksearch import TESSSearch\n",
    "from lkorbit import TESSSpacecraft"
   ]
  },
  {
   "cell_type": "code",
   "execution_count": 17,
   "id": "b17e6d10-aba5-4276-8330-b4a5d5367954",
   "metadata": {},
   "outputs": [
    {
     "name": "stderr",
     "output_type": "stream",
     "text": [
      "Downloading TESScut: 100%|████████████████████████| 1/1 [00:01<00:00,  1.77s/it]\n"
     ]
    }
   ],
   "source": [
    "# Download a TESScut TPF file, obtain the local filename\n",
    "fname = TESSSearch(\"Kepler-10\", hlsp=False).tesscut[0].download()['Local Path'][0]\n",
    "# Open using astropy\n",
    "hdulist = fits.open(fname)"
   ]
  },
  {
   "cell_type": "code",
   "execution_count": 18,
   "id": "837fdd57-0fe2-4239-bed9-c1225e8fd153",
   "metadata": {},
   "outputs": [],
   "source": [
    "ra, dec = hdulist[1].header['RA_OBJ'], hdulist[1].header['DEC_OBJ']"
   ]
  },
  {
   "cell_type": "markdown",
   "id": "e30b0d47-fa2f-444e-bae7-8fade37b40e0",
   "metadata": {},
   "source": [
    "We'll load a new spacecraft this time, TESS!"
   ]
  },
  {
   "cell_type": "code",
   "execution_count": 19,
   "id": "dc2fce31-a68f-4408-a8ad-7d63650d3486",
   "metadata": {},
   "outputs": [],
   "source": [
    "ts = TESSSpacecraft()"
   ]
  },
  {
   "cell_type": "markdown",
   "id": "198054c5-8a04-424e-8bc9-91382fc51930",
   "metadata": {},
   "source": [
    "In TESScut data there is a correction applied, but this is the correction at the middle of the FFI. Let's remove it"
   ]
  },
  {
   "cell_type": "code",
   "execution_count": 20,
   "id": "83bee026-047d-422d-a895-2ac23f373c54",
   "metadata": {},
   "outputs": [],
   "source": [
    "time, time_corr = hdulist[1].data['TIME'], hdulist[1].data['TIMECORR']\n",
    "k = np.isfinite(time)\n",
    "time, time_corr = time[k], time_corr[k]\n",
    "t = Time(time - time_corr + ts.time_offset, format='jd')"
   ]
  },
  {
   "cell_type": "code",
   "execution_count": 21,
   "id": "7fc89a8b-303b-43b4-9abd-144ed3bb2e1e",
   "metadata": {},
   "outputs": [
    {
     "data": {
      "text/plain": [
       "array([155.38559868, 155.38850227, 155.39132197, ..., 148.89153462,\n",
       "       148.88320421, 148.87483253])"
      ]
     },
     "execution_count": 21,
     "metadata": {},
     "output_type": "execute_result"
    }
   ],
   "source": [
    "ts.get_barycentric_time_correction(time=t, ra=ra, dec=dec)"
   ]
  },
  {
   "cell_type": "code",
   "execution_count": 23,
   "id": "cf0afa7f-552b-443b-9d9b-7f22f2d2c6d2",
   "metadata": {},
   "outputs": [
    {
     "data": {
      "image/png": "[encoded data removed]",
      "text/plain": [
       "<Figure size 640x480 with 1 Axes>"
      ]
     },
     "metadata": {},
     "output_type": "display_data"
    }
   ],
   "source": [
    "fig, ax = plt.subplots()\n",
    "ax.plot(t.jd, time_corr * 86400, label='TESSCut Time Correction', c='r')\n",
    "ax.plot(t.jd, ts.get_barycentric_time_correction(time=t, ra=ra, dec=dec), label='`lkorbit` Time Correction', c='k')\n",
    "ax.legend()\n",
    "ax.set(xlabel='Spacecraft Time [JD]', ylabel='Barycentric Time Correction [s]', title=hdulist[0].header['OBJECT']);"
   ]
  },
  {
   "cell_type": "markdown",
   "id": "dd342eec-f63a-47f7-aa65-8d350d2cb23f",
   "metadata": {},
   "source": [
    "This time the stated time correction from TESSCut is incorrect, this is the time correction at the center of the FOV, not at our target. This can make a significant difference, the TESSCut data has photons arriving 40s too early!\n",
    "\n",
    "Now you know about this time correction, you can apply it to any work on TESS FFI data."
   ]
  }
 ],
 "metadata": {
  "kernelspec": {
   "display_name": "Python 3 (ipykernel)",
   "language": "python",
   "name": "python3"
  },
  "language_info": {
   "codemirror_mode": {
    "name": "ipython",
    "version": 3
   },
   "file_extension": ".py",
   "mimetype": "text/x-python",
   "name": "python",
   "nbconvert_exporter": "python",
   "pygments_lexer": "ipython3",
   "version": "3.10.9"
  }
 },
 "nbformat": 4,
 "nbformat_minor": 5
}
